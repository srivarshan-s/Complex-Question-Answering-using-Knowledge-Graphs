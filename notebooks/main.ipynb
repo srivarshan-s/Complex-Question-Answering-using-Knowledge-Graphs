{
 "cells": [
  {
   "cell_type": "markdown",
   "metadata": {},
   "source": [
    "## **Environment Setup**"
   ]
  },
  {
   "cell_type": "code",
   "execution_count": 1,
   "metadata": {},
   "outputs": [],
   "source": [
    "import os \n",
    "os.chdir ('../src')"
   ]
  },
  {
   "cell_type": "markdown",
   "metadata": {},
   "source": [
    "## **Importing Libraries**"
   ]
  },
  {
   "cell_type": "code",
   "execution_count": 2,
   "metadata": {},
   "outputs": [],
   "source": [
    "from init import pd, nlp, tqdm\n",
    "from entity import get_entities, get_relation"
   ]
  },
  {
   "cell_type": "code",
   "execution_count": 3,
   "metadata": {},
   "outputs": [],
   "source": [
    "pd.set_option('display.max_colwidth', 200)"
   ]
  },
  {
   "cell_type": "code",
   "execution_count": 4,
   "metadata": {},
   "outputs": [],
   "source": [
    "ROOT_PATH = '/run/media/sri/OS/Users/sriva/Desktop/Sem 5/'\n",
    "ROOT_PATH += 'Knowledge Representation/Project/'\n",
    "ROOT_PATH += 'Complex-Question-Answering-using-Knowledge-Graphs/'"
   ]
  },
  {
   "cell_type": "markdown",
   "metadata": {},
   "source": [
    "## **Reading the data**"
   ]
  },
  {
   "cell_type": "code",
   "execution_count": 5,
   "metadata": {},
   "outputs": [],
   "source": [
    "candidate_sentences = pd.read_csv(ROOT_PATH + \"data/wiki_sentences_v2.csv\")"
   ]
  },
  {
   "cell_type": "code",
   "execution_count": 6,
   "metadata": {},
   "outputs": [],
   "source": [
    "entity_pairs = []"
   ]
  },
  {
   "cell_type": "code",
   "execution_count": 7,
   "metadata": {},
   "outputs": [
    {
     "name": "stderr",
     "output_type": "stream",
     "text": [
      "100%|██████████| 4318/4318 [00:31<00:00, 137.65it/s]\n"
     ]
    }
   ],
   "source": [
    "for i in tqdm(candidate_sentences[\"sentence\"]):\n",
    "    entity_pairs.append(get_entities(i))"
   ]
  },
  {
   "cell_type": "code",
   "execution_count": 8,
   "metadata": {},
   "outputs": [
    {
     "name": "stdout",
     "output_type": "stream",
     "text": [
      "['connie', 'own']\n",
      "['later  scream', 'distance']\n",
      "['christian', 'then  elder']\n",
      "['temple', 'fire']\n",
      "['', 'outside cult him']\n",
      "['it', 'religious  awakening']\n",
      "['c. mackenzie', 'craig cast']\n",
      "['later craig di francia', 'action cast']\n",
      "['sebastian  maniscalco', 'later paul ben cast']\n",
      "['we', 'just  film']\n"
     ]
    }
   ],
   "source": [
    "for i in range(10):\n",
    "    print(entity_pairs[i])"
   ]
  },
  {
   "cell_type": "code",
   "execution_count": 9,
   "metadata": {},
   "outputs": [
    {
     "name": "stdout",
     "output_type": "stream",
     "text": [
      "completed\n"
     ]
    }
   ],
   "source": [
    "print(get_relation(\"John completed the task\"))"
   ]
  },
  {
   "cell_type": "code",
   "execution_count": 10,
   "metadata": {},
   "outputs": [
    {
     "name": "stderr",
     "output_type": "stream",
     "text": [
      "100%|██████████| 4318/4318 [00:29<00:00, 147.85it/s]\n"
     ]
    }
   ],
   "source": [
    "for i in tqdm(candidate_sentences[\"sentence\"]):\n",
    "  entity_pairs.append(get_entities(i))\n"
   ]
  }
 ],
 "metadata": {
  "interpreter": {
   "hash": "778f36b5a4644f9c18d9e0a5c0a7c4f607e7129dbeea5d42f47e6a06957b0bbd"
  },
  "kernelspec": {
   "display_name": "Python 3.9.7 64-bit ('venv': venv)",
   "language": "python",
   "name": "python3"
  },
  "language_info": {
   "codemirror_mode": {
    "name": "ipython",
    "version": 3
   },
   "file_extension": ".py",
   "mimetype": "text/x-python",
   "name": "python",
   "nbconvert_exporter": "python",
   "pygments_lexer": "ipython3",
   "version": "3.9.7"
  },
  "orig_nbformat": 4
 },
 "nbformat": 4,
 "nbformat_minor": 2
}
