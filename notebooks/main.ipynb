{
 "cells": [
  {
   "cell_type": "markdown",
   "metadata": {},
   "source": [
    "## **Environment Setup**"
   ]
  },
  {
   "cell_type": "code",
   "execution_count": 1,
   "metadata": {},
   "outputs": [],
   "source": [
    "import os \n",
    "os.chdir ('../src')"
   ]
  },
  {
   "cell_type": "markdown",
   "metadata": {},
   "source": [
    "## **Importing Libraries**"
   ]
  },
  {
   "cell_type": "code",
   "execution_count": 12,
   "metadata": {},
   "outputs": [],
   "source": [
    "from init import pd, nlp, tqdm\n",
    "from entity import get_entities, get_relation"
   ]
  },
  {
   "cell_type": "code",
   "execution_count": 3,
   "metadata": {},
   "outputs": [],
   "source": [
    "pd.set_option('display.max_colwidth', 200)"
   ]
  },
  {
   "cell_type": "code",
   "execution_count": 4,
   "metadata": {},
   "outputs": [],
   "source": [
    "ROOT_PATH = '/run/media/sri/OS/Users/sriva/Desktop/Sem 5/'\n",
    "ROOT_PATH += 'Knowledge Representation/Project/'\n",
    "ROOT_PATH += 'Complex-Question-Answering-using-Knowledge-Graphs/'"
   ]
  },
  {
   "cell_type": "markdown",
   "metadata": {},
   "source": [
    "## **Reading the data**"
   ]
  },
  {
   "cell_type": "code",
   "execution_count": 5,
   "metadata": {},
   "outputs": [],
   "source": [
    "candidate_sentences = pd.read_csv(ROOT_PATH + \"data/wiki_sentences_v2.csv\")"
   ]
  },
  {
   "cell_type": "markdown",
   "metadata": {},
   "source": [
    "## **Getting Entity Pairs**"
   ]
  },
  {
   "cell_type": "code",
   "execution_count": 6,
   "metadata": {},
   "outputs": [],
   "source": [
    "entity_pairs = []"
   ]
  },
  {
   "cell_type": "code",
   "execution_count": 7,
   "metadata": {},
   "outputs": [
    {
     "name": "stderr",
     "output_type": "stream",
     "text": [
      "100%|██████████| 4318/4318 [00:47<00:00, 90.01it/s]\n"
     ]
    }
   ],
   "source": [
    "for i in tqdm(candidate_sentences[\"sentence\"]):\n",
    "    entity_pairs.append(get_entities(i))"
   ]
  },
  {
   "cell_type": "code",
   "execution_count": 8,
   "metadata": {},
   "outputs": [
    {
     "name": "stdout",
     "output_type": "stream",
     "text": [
      "['connie', 'own']\n",
      "['later  scream', 'distance']\n",
      "['christian', 'then  elder']\n",
      "['temple', 'fire']\n",
      "['', 'outside cult him']\n",
      "['it', 'religious  awakening']\n",
      "['c. mackenzie', 'craig cast']\n",
      "['later craig di francia', 'action cast']\n",
      "['sebastian  maniscalco', 'later paul ben cast']\n",
      "['we', 'just  film']\n"
     ]
    }
   ],
   "source": [
    "for i in range(10):\n",
    "    print(entity_pairs[i])"
   ]
  },
  {
   "cell_type": "code",
   "execution_count": 13,
   "metadata": {},
   "outputs": [
    {
     "name": "stderr",
     "output_type": "stream",
     "text": [
      "100%|██████████| 4318/4318 [00:44<00:00, 96.06it/s]\n"
     ]
    }
   ],
   "source": [
    "relations = [get_relation(i) for i in tqdm(candidate_sentences['sentence'])]"
   ]
  },
  {
   "cell_type": "code",
   "execution_count": 21,
   "metadata": {},
   "outputs": [
    {
     "data": {
      "text/plain": [
       "is               359\n",
       "was              308\n",
       "released on       89\n",
       "are               72\n",
       "include           71\n",
       "were              62\n",
       "released          40\n",
       "composed by       35\n",
       "became            34\n",
       "'s                32\n",
       "have              31\n",
       "has               30\n",
       "become            28\n",
       "released in       27\n",
       "included          24\n",
       "had               21\n",
       "produced          21\n",
       "called            19\n",
       "been              19\n",
       "considered        18\n",
       "made              18\n",
       "used              17\n",
       "scheduled         17\n",
       "be                16\n",
       "directed by       16\n",
       "hired             14\n",
       "written by        14\n",
       "wrote             14\n",
       "introduced in     13\n",
       "produced by       13\n",
       "received          13\n",
       "went              13\n",
       "wanted            12\n",
       "sold              12\n",
       "began in          11\n",
       "won               11\n",
       "set               11\n",
       "began             11\n",
       "cast as           11\n",
       "gave              10\n",
       "includes          10\n",
       "stars             10\n",
       "reported           9\n",
       "shot in            9\n",
       "going              9\n",
       "directed           9\n",
       "produced in        9\n",
       "opened             9\n",
       "intended           8\n",
       "said               8\n",
       "dtype: int64"
      ]
     },
     "execution_count": 21,
     "metadata": {},
     "output_type": "execute_result"
    }
   ],
   "source": [
    "pd.Series(relations).value_counts()[:50]"
   ]
  },
  {
   "cell_type": "code",
   "execution_count": 11,
   "metadata": {},
   "outputs": [
    {
     "name": "stderr",
     "output_type": "stream",
     "text": [
      "100%|██████████| 4318/4318 [00:41<00:00, 102.88it/s]\n"
     ]
    }
   ],
   "source": [
    "from init import Matcher\n",
    "\n",
    "for i in tqdm(candidate_sentences['sentence']):\n",
    "\n",
    "    doc = nlp(i)\n",
    "\n",
    "    matcher = Matcher(nlp.vocab)\n",
    "\n",
    "    pattern = [{'DEP':'ROOT'}, \n",
    "            {'DEP':'prep','OP':\"?\"},\n",
    "            {'DEP':'agent','OP':\"?\"},  \n",
    "            {'POS':'ADJ','OP':\"?\"}] \n",
    "\n",
    "    matcher.add(\"matching_1\", [pattern]) \n",
    "\n",
    "    matches = matcher(doc)\n",
    "    k = len(matches) - 1\n",
    "\n",
    "    if k == -1:\n",
    "        continue\n",
    "    else:\n",
    "        span = doc[matches[k][1]:matches[k][2]] "
   ]
  }
 ],
 "metadata": {
  "interpreter": {
   "hash": "778f36b5a4644f9c18d9e0a5c0a7c4f607e7129dbeea5d42f47e6a06957b0bbd"
  },
  "kernelspec": {
   "display_name": "Python 3.9.7 64-bit ('venv': venv)",
   "language": "python",
   "name": "python3"
  },
  "language_info": {
   "codemirror_mode": {
    "name": "ipython",
    "version": 3
   },
   "file_extension": ".py",
   "mimetype": "text/x-python",
   "name": "python",
   "nbconvert_exporter": "python",
   "pygments_lexer": "ipython3",
   "version": "3.9.7"
  },
  "orig_nbformat": 4
 },
 "nbformat": 4,
 "nbformat_minor": 2
}
